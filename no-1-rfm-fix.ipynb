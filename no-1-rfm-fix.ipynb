{
 "cells": [
  {
   "cell_type": "code",
   "execution_count": 1,
   "id": "cc603bcf",
   "metadata": {
    "_cell_guid": "b1076dfc-b9ad-4769-8c92-a6c4dae69d19",
    "_uuid": "8f2839f25d086af736a60e9eeb907d3b93b6e0e5",
    "execution": {
     "iopub.execute_input": "2021-07-19T19:02:01.576477Z",
     "iopub.status.busy": "2021-07-19T19:02:01.575287Z",
     "iopub.status.idle": "2021-07-19T19:02:01.596386Z",
     "shell.execute_reply": "2021-07-19T19:02:01.595681Z",
     "shell.execute_reply.started": "2021-07-19T18:52:19.741032Z"
    },
    "papermill": {
     "duration": 0.045562,
     "end_time": "2021-07-19T19:02:01.596582",
     "exception": false,
     "start_time": "2021-07-19T19:02:01.551020",
     "status": "completed"
    },
    "tags": []
   },
   "outputs": [
    {
     "name": "stdout",
     "output_type": "stream",
     "text": [
      "/kaggle/input/uas-rfm/UAS_RFM.csv\n"
     ]
    }
   ],
   "source": [
    "import numpy as np \n",
    "import pandas as pd\n",
    "\n",
    "\n",
    "import os\n",
    "for dirname, _, filenames in os.walk('/kaggle/input'):\n",
    "    for filename in filenames:\n",
    "        print(os.path.join(dirname, filename))\n",
    "\n"
   ]
  },
  {
   "cell_type": "code",
   "execution_count": 2,
   "id": "c0601c1d",
   "metadata": {
    "execution": {
     "iopub.execute_input": "2021-07-19T19:02:01.641581Z",
     "iopub.status.busy": "2021-07-19T19:02:01.640747Z",
     "iopub.status.idle": "2021-07-19T19:02:01.786494Z",
     "shell.execute_reply": "2021-07-19T19:02:01.787087Z",
     "shell.execute_reply.started": "2021-07-19T18:52:19.768089Z"
    },
    "papermill": {
     "duration": 0.169888,
     "end_time": "2021-07-19T19:02:01.787292",
     "exception": false,
     "start_time": "2021-07-19T19:02:01.617404",
     "status": "completed"
    },
    "tags": []
   },
   "outputs": [
    {
     "data": {
      "text/html": [
       "<div>\n",
       "<style scoped>\n",
       "    .dataframe tbody tr th:only-of-type {\n",
       "        vertical-align: middle;\n",
       "    }\n",
       "\n",
       "    .dataframe tbody tr th {\n",
       "        vertical-align: top;\n",
       "    }\n",
       "\n",
       "    .dataframe thead th {\n",
       "        text-align: right;\n",
       "    }\n",
       "</style>\n",
       "<table border=\"1\" class=\"dataframe\">\n",
       "  <thead>\n",
       "    <tr style=\"text-align: right;\">\n",
       "      <th></th>\n",
       "      <th>CardID</th>\n",
       "      <th>TrxDate</th>\n",
       "      <th>Amount</th>\n",
       "    </tr>\n",
       "  </thead>\n",
       "  <tbody>\n",
       "    <tr>\n",
       "      <th>0</th>\n",
       "      <td>1000152</td>\n",
       "      <td>6/24/2021</td>\n",
       "      <td>797,173.00</td>\n",
       "    </tr>\n",
       "    <tr>\n",
       "      <th>1</th>\n",
       "      <td>1000158</td>\n",
       "      <td>4/7/2021</td>\n",
       "      <td>912,660.00</td>\n",
       "    </tr>\n",
       "    <tr>\n",
       "      <th>2</th>\n",
       "      <td>1000156</td>\n",
       "      <td>3/21/2021</td>\n",
       "      <td>972,450.00</td>\n",
       "    </tr>\n",
       "    <tr>\n",
       "      <th>3</th>\n",
       "      <td>1000115</td>\n",
       "      <td>5/20/2021</td>\n",
       "      <td>599,196.00</td>\n",
       "    </tr>\n",
       "    <tr>\n",
       "      <th>4</th>\n",
       "      <td>1000164</td>\n",
       "      <td>2/14/2021</td>\n",
       "      <td>827,965.00</td>\n",
       "    </tr>\n",
       "    <tr>\n",
       "      <th>...</th>\n",
       "      <td>...</td>\n",
       "      <td>...</td>\n",
       "      <td>...</td>\n",
       "    </tr>\n",
       "    <tr>\n",
       "      <th>194</th>\n",
       "      <td>1000113</td>\n",
       "      <td>5/1/2021</td>\n",
       "      <td>249,526.00</td>\n",
       "    </tr>\n",
       "    <tr>\n",
       "      <th>195</th>\n",
       "      <td>1000166</td>\n",
       "      <td>6/15/2021</td>\n",
       "      <td>187,089.00</td>\n",
       "    </tr>\n",
       "    <tr>\n",
       "      <th>196</th>\n",
       "      <td>1000132</td>\n",
       "      <td>2/19/2021</td>\n",
       "      <td>890,693.00</td>\n",
       "    </tr>\n",
       "    <tr>\n",
       "      <th>197</th>\n",
       "      <td>1000121</td>\n",
       "      <td>3/28/2021</td>\n",
       "      <td>343,768.00</td>\n",
       "    </tr>\n",
       "    <tr>\n",
       "      <th>198</th>\n",
       "      <td>1000137</td>\n",
       "      <td>5/6/2021</td>\n",
       "      <td>568,531.00</td>\n",
       "    </tr>\n",
       "  </tbody>\n",
       "</table>\n",
       "<p>199 rows × 3 columns</p>\n",
       "</div>"
      ],
      "text/plain": [
       "      CardID    TrxDate      Amount\n",
       "0    1000152  6/24/2021  797,173.00\n",
       "1    1000158   4/7/2021  912,660.00\n",
       "2    1000156  3/21/2021  972,450.00\n",
       "3    1000115  5/20/2021  599,196.00\n",
       "4    1000164  2/14/2021  827,965.00\n",
       "..       ...        ...         ...\n",
       "194  1000113   5/1/2021  249,526.00\n",
       "195  1000166  6/15/2021  187,089.00\n",
       "196  1000132  2/19/2021  890,693.00\n",
       "197  1000121  3/28/2021  343,768.00\n",
       "198  1000137   5/6/2021  568,531.00\n",
       "\n",
       "[199 rows x 3 columns]"
      ]
     },
     "execution_count": 2,
     "metadata": {},
     "output_type": "execute_result"
    }
   ],
   "source": [
    "data= pd.read_csv('../input/uas-rfm/UAS_RFM.csv')\n",
    "data"
   ]
  },
  {
   "cell_type": "code",
   "execution_count": 3,
   "id": "97f80532",
   "metadata": {
    "execution": {
     "iopub.execute_input": "2021-07-19T19:02:01.832265Z",
     "iopub.status.busy": "2021-07-19T19:02:01.831549Z",
     "iopub.status.idle": "2021-07-19T19:02:01.843778Z",
     "shell.execute_reply": "2021-07-19T19:02:01.844633Z",
     "shell.execute_reply.started": "2021-07-19T18:52:19.793758Z"
    },
    "papermill": {
     "duration": 0.035798,
     "end_time": "2021-07-19T19:02:01.844909",
     "exception": false,
     "start_time": "2021-07-19T19:02:01.809111",
     "status": "completed"
    },
    "tags": []
   },
   "outputs": [
    {
     "data": {
      "text/html": [
       "<div>\n",
       "<style scoped>\n",
       "    .dataframe tbody tr th:only-of-type {\n",
       "        vertical-align: middle;\n",
       "    }\n",
       "\n",
       "    .dataframe tbody tr th {\n",
       "        vertical-align: top;\n",
       "    }\n",
       "\n",
       "    .dataframe thead th {\n",
       "        text-align: right;\n",
       "    }\n",
       "</style>\n",
       "<table border=\"1\" class=\"dataframe\">\n",
       "  <thead>\n",
       "    <tr style=\"text-align: right;\">\n",
       "      <th></th>\n",
       "      <th>index</th>\n",
       "      <th>0</th>\n",
       "    </tr>\n",
       "  </thead>\n",
       "  <tbody>\n",
       "    <tr>\n",
       "      <th>0</th>\n",
       "      <td>CardID</td>\n",
       "      <td>0</td>\n",
       "    </tr>\n",
       "    <tr>\n",
       "      <th>1</th>\n",
       "      <td>TrxDate</td>\n",
       "      <td>0</td>\n",
       "    </tr>\n",
       "    <tr>\n",
       "      <th>2</th>\n",
       "      <td>Amount</td>\n",
       "      <td>0</td>\n",
       "    </tr>\n",
       "  </tbody>\n",
       "</table>\n",
       "</div>"
      ],
      "text/plain": [
       "     index  0\n",
       "0   CardID  0\n",
       "1  TrxDate  0\n",
       "2   Amount  0"
      ]
     },
     "execution_count": 3,
     "metadata": {},
     "output_type": "execute_result"
    }
   ],
   "source": [
    "data_missing_value = data.isnull().sum().reset_index()\n",
    "data_missing_value"
   ]
  },
  {
   "cell_type": "code",
   "execution_count": 4,
   "id": "40de34f4",
   "metadata": {
    "execution": {
     "iopub.execute_input": "2021-07-19T19:02:01.894377Z",
     "iopub.status.busy": "2021-07-19T19:02:01.893589Z",
     "iopub.status.idle": "2021-07-19T19:02:01.907195Z",
     "shell.execute_reply": "2021-07-19T19:02:01.906667Z",
     "shell.execute_reply.started": "2021-07-19T18:52:19.811577Z"
    },
    "papermill": {
     "duration": 0.039179,
     "end_time": "2021-07-19T19:02:01.907339",
     "exception": false,
     "start_time": "2021-07-19T19:02:01.868160",
     "status": "completed"
    },
    "tags": []
   },
   "outputs": [
    {
     "data": {
      "text/plain": [
       "0"
      ]
     },
     "execution_count": 4,
     "metadata": {},
     "output_type": "execute_result"
    }
   ],
   "source": [
    "data.duplicated().sum()"
   ]
  },
  {
   "cell_type": "code",
   "execution_count": 5,
   "id": "eceb032d",
   "metadata": {
    "execution": {
     "iopub.execute_input": "2021-07-19T19:02:01.956231Z",
     "iopub.status.busy": "2021-07-19T19:02:01.955457Z",
     "iopub.status.idle": "2021-07-19T19:02:01.960593Z",
     "shell.execute_reply": "2021-07-19T19:02:01.961242Z",
     "shell.execute_reply.started": "2021-07-19T18:52:19.827785Z"
    },
    "papermill": {
     "duration": 0.033558,
     "end_time": "2021-07-19T19:02:01.961431",
     "exception": false,
     "start_time": "2021-07-19T19:02:01.927873",
     "status": "completed"
    },
    "tags": []
   },
   "outputs": [],
   "source": [
    "filtered_data=data[['CardID','TrxDate']].drop_duplicates()"
   ]
  },
  {
   "cell_type": "code",
   "execution_count": 6,
   "id": "61d291e5",
   "metadata": {
    "execution": {
     "iopub.execute_input": "2021-07-19T19:02:02.011270Z",
     "iopub.status.busy": "2021-07-19T19:02:02.010480Z",
     "iopub.status.idle": "2021-07-19T19:02:02.384077Z",
     "shell.execute_reply": "2021-07-19T19:02:02.384593Z",
     "shell.execute_reply.started": "2021-07-19T18:52:19.843683Z"
    },
    "papermill": {
     "duration": 0.402844,
     "end_time": "2021-07-19T19:02:02.384854",
     "exception": false,
     "start_time": "2021-07-19T19:02:01.982010",
     "status": "completed"
    },
    "tags": []
   },
   "outputs": [
    {
     "data": {
      "text/plain": [
       "<AxesSubplot:>"
      ]
     },
     "execution_count": 6,
     "metadata": {},
     "output_type": "execute_result"
    },
    {
     "data": {
      "image/png": "[encoded data removed]",
      "text/plain": [
       "<Figure size 432x288 with 1 Axes>"
      ]
     },
     "metadata": {
      "needs_background": "light"
     },
     "output_type": "display_data"
    }
   ],
   "source": [
    "filtered_data.CardID.value_counts()[:20].plot(kind='bar')"
   ]
  },
  {
   "cell_type": "code",
   "execution_count": 7,
   "id": "a4f0323c",
   "metadata": {
    "execution": {
     "iopub.execute_input": "2021-07-19T19:02:02.478840Z",
     "iopub.status.busy": "2021-07-19T19:02:02.473397Z",
     "iopub.status.idle": "2021-07-19T19:02:02.837177Z",
     "shell.execute_reply": "2021-07-19T19:02:02.836589Z",
     "shell.execute_reply.started": "2021-07-19T18:52:20.179536Z"
    },
    "papermill": {
     "duration": 0.427088,
     "end_time": "2021-07-19T19:02:02.837344",
     "exception": false,
     "start_time": "2021-07-19T19:02:02.410256",
     "status": "completed"
    },
    "tags": []
   },
   "outputs": [
    {
     "data": {
      "text/plain": [
       "<AxesSubplot:>"
      ]
     },
     "execution_count": 7,
     "metadata": {},
     "output_type": "execute_result"
    },
    {
     "data": {
      "image/png": "[encoded data removed]",
      "text/plain": [
       "<Figure size 432x288 with 1 Axes>"
      ]
     },
     "metadata": {
      "needs_background": "light"
     },
     "output_type": "display_data"
    }
   ],
   "source": [
    "filtered_data.TrxDate.value_counts()[:30].plot(kind='bar')"
   ]
  },
  {
   "cell_type": "code",
   "execution_count": 8,
   "id": "9a2fdd79",
   "metadata": {
    "execution": {
     "iopub.execute_input": "2021-07-19T19:02:02.893089Z",
     "iopub.status.busy": "2021-07-19T19:02:02.892165Z",
     "iopub.status.idle": "2021-07-19T19:02:02.896421Z",
     "shell.execute_reply": "2021-07-19T19:02:02.897060Z",
     "shell.execute_reply.started": "2021-07-19T18:52:20.538414Z"
    },
    "papermill": {
     "duration": 0.034358,
     "end_time": "2021-07-19T19:02:02.897275",
     "exception": false,
     "start_time": "2021-07-19T19:02:02.862917",
     "status": "completed"
    },
    "tags": []
   },
   "outputs": [
    {
     "data": {
      "text/plain": [
       "(199, 3)"
      ]
     },
     "execution_count": 8,
     "metadata": {},
     "output_type": "execute_result"
    }
   ],
   "source": [
    "data.shape"
   ]
  },
  {
   "cell_type": "code",
   "execution_count": 9,
   "id": "52ef1190",
   "metadata": {
    "execution": {
     "iopub.execute_input": "2021-07-19T19:02:02.963581Z",
     "iopub.status.busy": "2021-07-19T19:02:02.962840Z",
     "iopub.status.idle": "2021-07-19T19:02:02.968843Z",
     "shell.execute_reply": "2021-07-19T19:02:02.967562Z",
     "shell.execute_reply.started": "2021-07-19T18:52:20.546640Z"
    },
    "papermill": {
     "duration": 0.047232,
     "end_time": "2021-07-19T19:02:02.969115",
     "exception": false,
     "start_time": "2021-07-19T19:02:02.921883",
     "status": "completed"
    },
    "tags": []
   },
   "outputs": [
    {
     "name": "stdout",
     "output_type": "stream",
     "text": [
      "<class 'pandas.core.frame.DataFrame'>\n",
      "RangeIndex: 199 entries, 0 to 198\n",
      "Data columns (total 3 columns):\n",
      " #   Column   Non-Null Count  Dtype \n",
      "---  ------   --------------  ----- \n",
      " 0   CardID   199 non-null    int64 \n",
      " 1   TrxDate  199 non-null    object\n",
      " 2   Amount   199 non-null    object\n",
      "dtypes: int64(1), object(2)\n",
      "memory usage: 4.8+ KB\n"
     ]
    }
   ],
   "source": [
    "data.info()"
   ]
  },
  {
   "cell_type": "code",
   "execution_count": 10,
   "id": "5adda821",
   "metadata": {
    "execution": {
     "iopub.execute_input": "2021-07-19T19:02:03.025773Z",
     "iopub.status.busy": "2021-07-19T19:02:03.025100Z",
     "iopub.status.idle": "2021-07-19T19:02:03.033399Z",
     "shell.execute_reply": "2021-07-19T19:02:03.034075Z",
     "shell.execute_reply.started": "2021-07-19T18:52:20.569333Z"
    },
    "papermill": {
     "duration": 0.038161,
     "end_time": "2021-07-19T19:02:03.034284",
     "exception": false,
     "start_time": "2021-07-19T19:02:02.996123",
     "status": "completed"
    },
    "tags": []
   },
   "outputs": [
    {
     "data": {
      "text/plain": [
       "CardID     0\n",
       "TrxDate    0\n",
       "Amount     0\n",
       "dtype: int64"
      ]
     },
     "execution_count": 10,
     "metadata": {},
     "output_type": "execute_result"
    }
   ],
   "source": [
    "data.isna().sum()"
   ]
  },
  {
   "cell_type": "code",
   "execution_count": 11,
   "id": "698a7318",
   "metadata": {
    "execution": {
     "iopub.execute_input": "2021-07-19T19:02:03.092317Z",
     "iopub.status.busy": "2021-07-19T19:02:03.091549Z",
     "iopub.status.idle": "2021-07-19T19:02:03.117876Z",
     "shell.execute_reply": "2021-07-19T19:02:03.117179Z",
     "shell.execute_reply.started": "2021-07-19T18:52:20.581392Z"
    },
    "papermill": {
     "duration": 0.056197,
     "end_time": "2021-07-19T19:02:03.118067",
     "exception": false,
     "start_time": "2021-07-19T19:02:03.061870",
     "status": "completed"
    },
    "tags": []
   },
   "outputs": [],
   "source": [
    "data['TrxDate'] = pd.to_datetime(data['TrxDate'])"
   ]
  },
  {
   "cell_type": "code",
   "execution_count": 12,
   "id": "ee9796a1",
   "metadata": {
    "execution": {
     "iopub.execute_input": "2021-07-19T19:02:03.176494Z",
     "iopub.status.busy": "2021-07-19T19:02:03.175384Z",
     "iopub.status.idle": "2021-07-19T19:02:03.180178Z",
     "shell.execute_reply": "2021-07-19T19:02:03.180754Z",
     "shell.execute_reply.started": "2021-07-19T18:52:20.609084Z"
    },
    "papermill": {
     "duration": 0.037357,
     "end_time": "2021-07-19T19:02:03.180971",
     "exception": false,
     "start_time": "2021-07-19T19:02:03.143614",
     "status": "completed"
    },
    "tags": []
   },
   "outputs": [
    {
     "data": {
      "text/plain": [
       "Timestamp('2021-06-30 00:00:00')"
      ]
     },
     "execution_count": 12,
     "metadata": {},
     "output_type": "execute_result"
    }
   ],
   "source": [
    "max_date = max(data['TrxDate'])\n",
    "max_date"
   ]
  },
  {
   "cell_type": "code",
   "execution_count": 13,
   "id": "1c1e4246",
   "metadata": {
    "execution": {
     "iopub.execute_input": "2021-07-19T19:02:03.246203Z",
     "iopub.status.busy": "2021-07-19T19:02:03.245457Z",
     "iopub.status.idle": "2021-07-19T19:02:03.253160Z",
     "shell.execute_reply": "2021-07-19T19:02:03.252305Z",
     "shell.execute_reply.started": "2021-07-19T18:52:20.619127Z"
    },
    "papermill": {
     "duration": 0.048234,
     "end_time": "2021-07-19T19:02:03.253356",
     "exception": false,
     "start_time": "2021-07-19T19:02:03.205122",
     "status": "completed"
    },
    "tags": []
   },
   "outputs": [
    {
     "data": {
      "text/html": [
       "<div>\n",
       "<style scoped>\n",
       "    .dataframe tbody tr th:only-of-type {\n",
       "        vertical-align: middle;\n",
       "    }\n",
       "\n",
       "    .dataframe tbody tr th {\n",
       "        vertical-align: top;\n",
       "    }\n",
       "\n",
       "    .dataframe thead th {\n",
       "        text-align: right;\n",
       "    }\n",
       "</style>\n",
       "<table border=\"1\" class=\"dataframe\">\n",
       "  <thead>\n",
       "    <tr style=\"text-align: right;\">\n",
       "      <th></th>\n",
       "      <th>CardID</th>\n",
       "      <th>TrxDate</th>\n",
       "      <th>Amount</th>\n",
       "      <th>Diff</th>\n",
       "    </tr>\n",
       "  </thead>\n",
       "  <tbody>\n",
       "    <tr>\n",
       "      <th>0</th>\n",
       "      <td>1000152</td>\n",
       "      <td>2021-06-24</td>\n",
       "      <td>797,173.00</td>\n",
       "      <td>6 days</td>\n",
       "    </tr>\n",
       "    <tr>\n",
       "      <th>1</th>\n",
       "      <td>1000158</td>\n",
       "      <td>2021-04-07</td>\n",
       "      <td>912,660.00</td>\n",
       "      <td>84 days</td>\n",
       "    </tr>\n",
       "    <tr>\n",
       "      <th>2</th>\n",
       "      <td>1000156</td>\n",
       "      <td>2021-03-21</td>\n",
       "      <td>972,450.00</td>\n",
       "      <td>101 days</td>\n",
       "    </tr>\n",
       "    <tr>\n",
       "      <th>3</th>\n",
       "      <td>1000115</td>\n",
       "      <td>2021-05-20</td>\n",
       "      <td>599,196.00</td>\n",
       "      <td>41 days</td>\n",
       "    </tr>\n",
       "    <tr>\n",
       "      <th>4</th>\n",
       "      <td>1000164</td>\n",
       "      <td>2021-02-14</td>\n",
       "      <td>827,965.00</td>\n",
       "      <td>136 days</td>\n",
       "    </tr>\n",
       "  </tbody>\n",
       "</table>\n",
       "</div>"
      ],
      "text/plain": [
       "    CardID    TrxDate      Amount     Diff\n",
       "0  1000152 2021-06-24  797,173.00   6 days\n",
       "1  1000158 2021-04-07  912,660.00  84 days\n",
       "2  1000156 2021-03-21  972,450.00 101 days\n",
       "3  1000115 2021-05-20  599,196.00  41 days\n",
       "4  1000164 2021-02-14  827,965.00 136 days"
      ]
     },
     "execution_count": 13,
     "metadata": {},
     "output_type": "execute_result"
    }
   ],
   "source": [
    "data['Diff'] = max_date - data['TrxDate']\n",
    "data.head()"
   ]
  },
  {
   "cell_type": "code",
   "execution_count": 14,
   "id": "954bd3fd",
   "metadata": {
    "execution": {
     "iopub.execute_input": "2021-07-19T19:02:03.312357Z",
     "iopub.status.busy": "2021-07-19T19:02:03.311577Z",
     "iopub.status.idle": "2021-07-19T19:02:03.322980Z",
     "shell.execute_reply": "2021-07-19T19:02:03.323621Z",
     "shell.execute_reply.started": "2021-07-19T18:52:20.639397Z"
    },
    "papermill": {
     "duration": 0.044947,
     "end_time": "2021-07-19T19:02:03.323898",
     "exception": false,
     "start_time": "2021-07-19T19:02:03.278951",
     "status": "completed"
    },
    "tags": []
   },
   "outputs": [
    {
     "data": {
      "text/html": [
       "<div>\n",
       "<style scoped>\n",
       "    .dataframe tbody tr th:only-of-type {\n",
       "        vertical-align: middle;\n",
       "    }\n",
       "\n",
       "    .dataframe tbody tr th {\n",
       "        vertical-align: top;\n",
       "    }\n",
       "\n",
       "    .dataframe thead th {\n",
       "        text-align: right;\n",
       "    }\n",
       "</style>\n",
       "<table border=\"1\" class=\"dataframe\">\n",
       "  <thead>\n",
       "    <tr style=\"text-align: right;\">\n",
       "      <th></th>\n",
       "      <th>CardID</th>\n",
       "    </tr>\n",
       "  </thead>\n",
       "  <tbody>\n",
       "    <tr>\n",
       "      <th>1000152</th>\n",
       "      <td>7</td>\n",
       "    </tr>\n",
       "    <tr>\n",
       "      <th>1000143</th>\n",
       "      <td>7</td>\n",
       "    </tr>\n",
       "    <tr>\n",
       "      <th>1000112</th>\n",
       "      <td>7</td>\n",
       "    </tr>\n",
       "    <tr>\n",
       "      <th>1000158</th>\n",
       "      <td>6</td>\n",
       "    </tr>\n",
       "    <tr>\n",
       "      <th>1000157</th>\n",
       "      <td>6</td>\n",
       "    </tr>\n",
       "  </tbody>\n",
       "</table>\n",
       "</div>"
      ],
      "text/plain": [
       "         CardID\n",
       "1000152       7\n",
       "1000143       7\n",
       "1000112       7\n",
       "1000158       6\n",
       "1000157       6"
      ]
     },
     "execution_count": 14,
     "metadata": {},
     "output_type": "execute_result"
    }
   ],
   "source": [
    "type_counts = data['CardID'].value_counts()\n",
    "CardID=pd.DataFrame(type_counts)\n",
    "CardID.head()"
   ]
  },
  {
   "cell_type": "code",
   "execution_count": 15,
   "id": "13fea796",
   "metadata": {
    "execution": {
     "iopub.execute_input": "2021-07-19T19:02:03.379896Z",
     "iopub.status.busy": "2021-07-19T19:02:03.379165Z",
     "iopub.status.idle": "2021-07-19T19:02:03.398342Z",
     "shell.execute_reply": "2021-07-19T19:02:03.397480Z",
     "shell.execute_reply.started": "2021-07-19T18:52:20.655478Z"
    },
    "papermill": {
     "duration": 0.048412,
     "end_time": "2021-07-19T19:02:03.398537",
     "exception": false,
     "start_time": "2021-07-19T19:02:03.350125",
     "status": "completed"
    },
    "tags": []
   },
   "outputs": [
    {
     "data": {
      "text/html": [
       "<div>\n",
       "<style scoped>\n",
       "    .dataframe tbody tr th:only-of-type {\n",
       "        vertical-align: middle;\n",
       "    }\n",
       "\n",
       "    .dataframe tbody tr th {\n",
       "        vertical-align: top;\n",
       "    }\n",
       "\n",
       "    .dataframe thead th {\n",
       "        text-align: right;\n",
       "    }\n",
       "</style>\n",
       "<table border=\"1\" class=\"dataframe\">\n",
       "  <thead>\n",
       "    <tr style=\"text-align: right;\">\n",
       "      <th></th>\n",
       "      <th>CardID</th>\n",
       "      <th>Diff</th>\n",
       "    </tr>\n",
       "  </thead>\n",
       "  <tbody>\n",
       "    <tr>\n",
       "      <th>0</th>\n",
       "      <td>1000101</td>\n",
       "      <td>143 days</td>\n",
       "    </tr>\n",
       "    <tr>\n",
       "      <th>1</th>\n",
       "      <td>1000102</td>\n",
       "      <td>133 days</td>\n",
       "    </tr>\n",
       "    <tr>\n",
       "      <th>2</th>\n",
       "      <td>1000103</td>\n",
       "      <td>153 days</td>\n",
       "    </tr>\n",
       "    <tr>\n",
       "      <th>3</th>\n",
       "      <td>1000104</td>\n",
       "      <td>154 days</td>\n",
       "    </tr>\n",
       "    <tr>\n",
       "      <th>4</th>\n",
       "      <td>1000105</td>\n",
       "      <td>13 days</td>\n",
       "    </tr>\n",
       "  </tbody>\n",
       "</table>\n",
       "</div>"
      ],
      "text/plain": [
       "    CardID     Diff\n",
       "0  1000101 143 days\n",
       "1  1000102 133 days\n",
       "2  1000103 153 days\n",
       "3  1000104 154 days\n",
       "4  1000105  13 days"
      ]
     },
     "execution_count": 15,
     "metadata": {},
     "output_type": "execute_result"
    }
   ],
   "source": [
    "RFM = data.groupby('CardID')['Diff'].min().reset_index()\n",
    "RFM.head()"
   ]
  },
  {
   "cell_type": "code",
   "execution_count": 16,
   "id": "aa04b753",
   "metadata": {
    "execution": {
     "iopub.execute_input": "2021-07-19T19:02:03.457282Z",
     "iopub.status.busy": "2021-07-19T19:02:03.456580Z",
     "iopub.status.idle": "2021-07-19T19:02:03.468118Z",
     "shell.execute_reply": "2021-07-19T19:02:03.467535Z",
     "shell.execute_reply.started": "2021-07-19T18:52:20.672932Z"
    },
    "papermill": {
     "duration": 0.041946,
     "end_time": "2021-07-19T19:02:03.468267",
     "exception": false,
     "start_time": "2021-07-19T19:02:03.426321",
     "status": "completed"
    },
    "tags": []
   },
   "outputs": [
    {
     "data": {
      "text/html": [
       "<div>\n",
       "<style scoped>\n",
       "    .dataframe tbody tr th:only-of-type {\n",
       "        vertical-align: middle;\n",
       "    }\n",
       "\n",
       "    .dataframe tbody tr th {\n",
       "        vertical-align: top;\n",
       "    }\n",
       "\n",
       "    .dataframe thead th {\n",
       "        text-align: right;\n",
       "    }\n",
       "</style>\n",
       "<table border=\"1\" class=\"dataframe\">\n",
       "  <thead>\n",
       "    <tr style=\"text-align: right;\">\n",
       "      <th></th>\n",
       "      <th>CardID</th>\n",
       "      <th>Recency</th>\n",
       "    </tr>\n",
       "  </thead>\n",
       "  <tbody>\n",
       "    <tr>\n",
       "      <th>0</th>\n",
       "      <td>1000101</td>\n",
       "      <td>143</td>\n",
       "    </tr>\n",
       "    <tr>\n",
       "      <th>1</th>\n",
       "      <td>1000102</td>\n",
       "      <td>133</td>\n",
       "    </tr>\n",
       "    <tr>\n",
       "      <th>2</th>\n",
       "      <td>1000103</td>\n",
       "      <td>153</td>\n",
       "    </tr>\n",
       "    <tr>\n",
       "      <th>3</th>\n",
       "      <td>1000104</td>\n",
       "      <td>154</td>\n",
       "    </tr>\n",
       "    <tr>\n",
       "      <th>4</th>\n",
       "      <td>1000105</td>\n",
       "      <td>13</td>\n",
       "    </tr>\n",
       "  </tbody>\n",
       "</table>\n",
       "</div>"
      ],
      "text/plain": [
       "    CardID  Recency\n",
       "0  1000101      143\n",
       "1  1000102      133\n",
       "2  1000103      153\n",
       "3  1000104      154\n",
       "4  1000105       13"
      ]
     },
     "execution_count": 16,
     "metadata": {},
     "output_type": "execute_result"
    }
   ],
   "source": [
    "RFM['Diff'] = RFM['Diff'].dt.days\n",
    "RFM.columns = ['CardID','Recency']\n",
    "RFM.head()"
   ]
  },
  {
   "cell_type": "code",
   "execution_count": 17,
   "id": "e5664cd5",
   "metadata": {
    "execution": {
     "iopub.execute_input": "2021-07-19T19:02:03.532947Z",
     "iopub.status.busy": "2021-07-19T19:02:03.531990Z",
     "iopub.status.idle": "2021-07-19T19:02:03.536623Z",
     "shell.execute_reply": "2021-07-19T19:02:03.536050Z",
     "shell.execute_reply.started": "2021-07-19T18:52:20.694474Z"
    },
    "papermill": {
     "duration": 0.042067,
     "end_time": "2021-07-19T19:02:03.536822",
     "exception": false,
     "start_time": "2021-07-19T19:02:03.494755",
     "status": "completed"
    },
    "tags": []
   },
   "outputs": [
    {
     "data": {
      "text/html": [
       "<div>\n",
       "<style scoped>\n",
       "    .dataframe tbody tr th:only-of-type {\n",
       "        vertical-align: middle;\n",
       "    }\n",
       "\n",
       "    .dataframe tbody tr th {\n",
       "        vertical-align: top;\n",
       "    }\n",
       "\n",
       "    .dataframe thead th {\n",
       "        text-align: right;\n",
       "    }\n",
       "</style>\n",
       "<table border=\"1\" class=\"dataframe\">\n",
       "  <thead>\n",
       "    <tr style=\"text-align: right;\">\n",
       "      <th></th>\n",
       "      <th>CardID</th>\n",
       "      <th>Frequency</th>\n",
       "    </tr>\n",
       "  </thead>\n",
       "  <tbody>\n",
       "    <tr>\n",
       "      <th>0</th>\n",
       "      <td>1000101</td>\n",
       "      <td>1</td>\n",
       "    </tr>\n",
       "    <tr>\n",
       "      <th>1</th>\n",
       "      <td>1000102</td>\n",
       "      <td>3</td>\n",
       "    </tr>\n",
       "    <tr>\n",
       "      <th>2</th>\n",
       "      <td>1000103</td>\n",
       "      <td>1</td>\n",
       "    </tr>\n",
       "    <tr>\n",
       "      <th>3</th>\n",
       "      <td>1000104</td>\n",
       "      <td>2</td>\n",
       "    </tr>\n",
       "    <tr>\n",
       "      <th>4</th>\n",
       "      <td>1000105</td>\n",
       "      <td>5</td>\n",
       "    </tr>\n",
       "  </tbody>\n",
       "</table>\n",
       "</div>"
      ],
      "text/plain": [
       "    CardID  Frequency\n",
       "0  1000101          1\n",
       "1  1000102          3\n",
       "2  1000103          1\n",
       "3  1000104          2\n",
       "4  1000105          5"
      ]
     },
     "execution_count": 17,
     "metadata": {},
     "output_type": "execute_result"
    }
   ],
   "source": [
    "RFM_F = data.groupby('CardID')['TrxDate'].count().reset_index()\n",
    "RFM_F.columns = ['CardID', 'Frequency']\n",
    "RFM_F.head()\n",
    "\n"
   ]
  },
  {
   "cell_type": "code",
   "execution_count": 18,
   "id": "5f0d4b80",
   "metadata": {
    "execution": {
     "iopub.execute_input": "2021-07-19T19:02:03.598780Z",
     "iopub.status.busy": "2021-07-19T19:02:03.598091Z",
     "iopub.status.idle": "2021-07-19T19:02:03.600867Z",
     "shell.execute_reply": "2021-07-19T19:02:03.601368Z",
     "shell.execute_reply.started": "2021-07-19T18:52:20.716096Z"
    },
    "papermill": {
     "duration": 0.038035,
     "end_time": "2021-07-19T19:02:03.601553",
     "exception": false,
     "start_time": "2021-07-19T19:02:03.563518",
     "status": "completed"
    },
    "tags": []
   },
   "outputs": [
    {
     "data": {
      "text/html": [
       "<div>\n",
       "<style scoped>\n",
       "    .dataframe tbody tr th:only-of-type {\n",
       "        vertical-align: middle;\n",
       "    }\n",
       "\n",
       "    .dataframe tbody tr th {\n",
       "        vertical-align: top;\n",
       "    }\n",
       "\n",
       "    .dataframe thead th {\n",
       "        text-align: right;\n",
       "    }\n",
       "</style>\n",
       "<table border=\"1\" class=\"dataframe\">\n",
       "  <thead>\n",
       "    <tr style=\"text-align: right;\">\n",
       "      <th></th>\n",
       "      <th>CardID</th>\n",
       "      <th>Frequency</th>\n",
       "    </tr>\n",
       "  </thead>\n",
       "  <tbody>\n",
       "    <tr>\n",
       "      <th>66</th>\n",
       "      <td>1000169</td>\n",
       "      <td>1</td>\n",
       "    </tr>\n",
       "    <tr>\n",
       "      <th>67</th>\n",
       "      <td>1000170</td>\n",
       "      <td>2</td>\n",
       "    </tr>\n",
       "    <tr>\n",
       "      <th>68</th>\n",
       "      <td>1000171</td>\n",
       "      <td>1</td>\n",
       "    </tr>\n",
       "    <tr>\n",
       "      <th>69</th>\n",
       "      <td>1000172</td>\n",
       "      <td>3</td>\n",
       "    </tr>\n",
       "    <tr>\n",
       "      <th>70</th>\n",
       "      <td>1000174</td>\n",
       "      <td>1</td>\n",
       "    </tr>\n",
       "  </tbody>\n",
       "</table>\n",
       "</div>"
      ],
      "text/plain": [
       "     CardID  Frequency\n",
       "66  1000169          1\n",
       "67  1000170          2\n",
       "68  1000171          1\n",
       "69  1000172          3\n",
       "70  1000174          1"
      ]
     },
     "execution_count": 18,
     "metadata": {},
     "output_type": "execute_result"
    }
   ],
   "source": [
    "RFM_F.tail(5)"
   ]
  },
  {
   "cell_type": "code",
   "execution_count": 19,
   "id": "727bf491",
   "metadata": {
    "execution": {
     "iopub.execute_input": "2021-07-19T19:02:03.659992Z",
     "iopub.status.busy": "2021-07-19T19:02:03.659226Z",
     "iopub.status.idle": "2021-07-19T19:02:03.684713Z",
     "shell.execute_reply": "2021-07-19T19:02:03.685210Z",
     "shell.execute_reply.started": "2021-07-19T18:52:20.728411Z"
    },
    "papermill": {
     "duration": 0.057171,
     "end_time": "2021-07-19T19:02:03.685381",
     "exception": false,
     "start_time": "2021-07-19T19:02:03.628210",
     "status": "completed"
    },
    "tags": []
   },
   "outputs": [
    {
     "data": {
      "text/html": [
       "<div>\n",
       "<style scoped>\n",
       "    .dataframe tbody tr th:only-of-type {\n",
       "        vertical-align: middle;\n",
       "    }\n",
       "\n",
       "    .dataframe tbody tr th {\n",
       "        vertical-align: top;\n",
       "    }\n",
       "\n",
       "    .dataframe thead th {\n",
       "        text-align: right;\n",
       "    }\n",
       "</style>\n",
       "<table border=\"1\" class=\"dataframe\">\n",
       "  <thead>\n",
       "    <tr style=\"text-align: right;\">\n",
       "      <th></th>\n",
       "      <th>CardID</th>\n",
       "      <th>Amount</th>\n",
       "    </tr>\n",
       "  </thead>\n",
       "  <tbody>\n",
       "    <tr>\n",
       "      <th>0</th>\n",
       "      <td>1000101</td>\n",
       "      <td>595,502.00</td>\n",
       "    </tr>\n",
       "    <tr>\n",
       "      <th>1</th>\n",
       "      <td>1000102</td>\n",
       "      <td>454,853.00607,435.00559,805.00</td>\n",
       "    </tr>\n",
       "    <tr>\n",
       "      <th>2</th>\n",
       "      <td>1000103</td>\n",
       "      <td>185,145.00</td>\n",
       "    </tr>\n",
       "    <tr>\n",
       "      <th>3</th>\n",
       "      <td>1000104</td>\n",
       "      <td>860,664.00861,520.00</td>\n",
       "    </tr>\n",
       "    <tr>\n",
       "      <th>4</th>\n",
       "      <td>1000105</td>\n",
       "      <td>708,611.00825,100.00681,646.00620,658.00446,36...</td>\n",
       "    </tr>\n",
       "  </tbody>\n",
       "</table>\n",
       "</div>"
      ],
      "text/plain": [
       "    CardID                                             Amount\n",
       "0  1000101                                         595,502.00\n",
       "1  1000102                     454,853.00607,435.00559,805.00\n",
       "2  1000103                                         185,145.00\n",
       "3  1000104                               860,664.00861,520.00\n",
       "4  1000105  708,611.00825,100.00681,646.00620,658.00446,36..."
      ]
     },
     "execution_count": 19,
     "metadata": {},
     "output_type": "execute_result"
    }
   ],
   "source": [
    "RFM_M = data.groupby('CardID')['Amount'].sum().reset_index()\n",
    "RFM_M.columns = ['CardID','Amount']\n",
    "RFM_M.head()"
   ]
  },
  {
   "cell_type": "code",
   "execution_count": 20,
   "id": "29fca434",
   "metadata": {
    "execution": {
     "iopub.execute_input": "2021-07-19T19:02:03.745338Z",
     "iopub.status.busy": "2021-07-19T19:02:03.744341Z",
     "iopub.status.idle": "2021-07-19T19:02:03.754423Z",
     "shell.execute_reply": "2021-07-19T19:02:03.755008Z",
     "shell.execute_reply.started": "2021-07-19T18:52:20.761725Z"
    },
    "papermill": {
     "duration": 0.041583,
     "end_time": "2021-07-19T19:02:03.755199",
     "exception": false,
     "start_time": "2021-07-19T19:02:03.713616",
     "status": "completed"
    },
    "tags": []
   },
   "outputs": [
    {
     "data": {
      "text/html": [
       "<div>\n",
       "<style scoped>\n",
       "    .dataframe tbody tr th:only-of-type {\n",
       "        vertical-align: middle;\n",
       "    }\n",
       "\n",
       "    .dataframe tbody tr th {\n",
       "        vertical-align: top;\n",
       "    }\n",
       "\n",
       "    .dataframe thead th {\n",
       "        text-align: right;\n",
       "    }\n",
       "</style>\n",
       "<table border=\"1\" class=\"dataframe\">\n",
       "  <thead>\n",
       "    <tr style=\"text-align: right;\">\n",
       "      <th></th>\n",
       "      <th>CardID</th>\n",
       "      <th>Amount</th>\n",
       "    </tr>\n",
       "  </thead>\n",
       "  <tbody>\n",
       "    <tr>\n",
       "      <th>66</th>\n",
       "      <td>1000169</td>\n",
       "      <td>892,006.00</td>\n",
       "    </tr>\n",
       "    <tr>\n",
       "      <th>67</th>\n",
       "      <td>1000170</td>\n",
       "      <td>320,453.0094,048.00</td>\n",
       "    </tr>\n",
       "    <tr>\n",
       "      <th>68</th>\n",
       "      <td>1000171</td>\n",
       "      <td>384,655.00</td>\n",
       "    </tr>\n",
       "    <tr>\n",
       "      <th>69</th>\n",
       "      <td>1000172</td>\n",
       "      <td>554,437.00904,739.00223,423.00</td>\n",
       "    </tr>\n",
       "    <tr>\n",
       "      <th>70</th>\n",
       "      <td>1000174</td>\n",
       "      <td>98,923.00</td>\n",
       "    </tr>\n",
       "  </tbody>\n",
       "</table>\n",
       "</div>"
      ],
      "text/plain": [
       "     CardID                          Amount\n",
       "66  1000169                      892,006.00\n",
       "67  1000170             320,453.0094,048.00\n",
       "68  1000171                      384,655.00\n",
       "69  1000172  554,437.00904,739.00223,423.00\n",
       "70  1000174                       98,923.00"
      ]
     },
     "execution_count": 20,
     "metadata": {},
     "output_type": "execute_result"
    }
   ],
   "source": [
    "RFM_M.tail()"
   ]
  },
  {
   "cell_type": "code",
   "execution_count": 21,
   "id": "d8c1f78e",
   "metadata": {
    "execution": {
     "iopub.execute_input": "2021-07-19T19:02:03.814134Z",
     "iopub.status.busy": "2021-07-19T19:02:03.813461Z",
     "iopub.status.idle": "2021-07-19T19:02:03.841184Z",
     "shell.execute_reply": "2021-07-19T19:02:03.840501Z",
     "shell.execute_reply.started": "2021-07-19T18:52:20.781272Z"
    },
    "papermill": {
     "duration": 0.057797,
     "end_time": "2021-07-19T19:02:03.841330",
     "exception": false,
     "start_time": "2021-07-19T19:02:03.783533",
     "status": "completed"
    },
    "tags": []
   },
   "outputs": [
    {
     "data": {
      "text/html": [
       "<div>\n",
       "<style scoped>\n",
       "    .dataframe tbody tr th:only-of-type {\n",
       "        vertical-align: middle;\n",
       "    }\n",
       "\n",
       "    .dataframe tbody tr th {\n",
       "        vertical-align: top;\n",
       "    }\n",
       "\n",
       "    .dataframe thead th {\n",
       "        text-align: right;\n",
       "    }\n",
       "</style>\n",
       "<table border=\"1\" class=\"dataframe\">\n",
       "  <thead>\n",
       "    <tr style=\"text-align: right;\">\n",
       "      <th></th>\n",
       "      <th>CardID</th>\n",
       "      <th>Recency</th>\n",
       "      <th>Frequency</th>\n",
       "      <th>Amount</th>\n",
       "    </tr>\n",
       "  </thead>\n",
       "  <tbody>\n",
       "    <tr>\n",
       "      <th>0</th>\n",
       "      <td>1000101</td>\n",
       "      <td>143</td>\n",
       "      <td>1</td>\n",
       "      <td>595,502.00</td>\n",
       "    </tr>\n",
       "    <tr>\n",
       "      <th>1</th>\n",
       "      <td>1000102</td>\n",
       "      <td>133</td>\n",
       "      <td>3</td>\n",
       "      <td>454,853.00607,435.00559,805.00</td>\n",
       "    </tr>\n",
       "    <tr>\n",
       "      <th>2</th>\n",
       "      <td>1000103</td>\n",
       "      <td>153</td>\n",
       "      <td>1</td>\n",
       "      <td>185,145.00</td>\n",
       "    </tr>\n",
       "    <tr>\n",
       "      <th>3</th>\n",
       "      <td>1000104</td>\n",
       "      <td>154</td>\n",
       "      <td>2</td>\n",
       "      <td>860,664.00861,520.00</td>\n",
       "    </tr>\n",
       "    <tr>\n",
       "      <th>4</th>\n",
       "      <td>1000105</td>\n",
       "      <td>13</td>\n",
       "      <td>5</td>\n",
       "      <td>708,611.00825,100.00681,646.00620,658.00446,36...</td>\n",
       "    </tr>\n",
       "    <tr>\n",
       "      <th>5</th>\n",
       "      <td>1000106</td>\n",
       "      <td>87</td>\n",
       "      <td>2</td>\n",
       "      <td>699,502.00709,907.00</td>\n",
       "    </tr>\n",
       "    <tr>\n",
       "      <th>6</th>\n",
       "      <td>1000107</td>\n",
       "      <td>71</td>\n",
       "      <td>3</td>\n",
       "      <td>247,765.00578,797.00366,094.00</td>\n",
       "    </tr>\n",
       "    <tr>\n",
       "      <th>7</th>\n",
       "      <td>1000108</td>\n",
       "      <td>5</td>\n",
       "      <td>3</td>\n",
       "      <td>168,311.00247,583.00114,631.00</td>\n",
       "    </tr>\n",
       "    <tr>\n",
       "      <th>8</th>\n",
       "      <td>1000109</td>\n",
       "      <td>37</td>\n",
       "      <td>2</td>\n",
       "      <td>991,635.00477,881.00</td>\n",
       "    </tr>\n",
       "    <tr>\n",
       "      <th>9</th>\n",
       "      <td>1000110</td>\n",
       "      <td>15</td>\n",
       "      <td>5</td>\n",
       "      <td>831,039.0092,526.00194,691.00509,712.0092,089.00</td>\n",
       "    </tr>\n",
       "    <tr>\n",
       "      <th>10</th>\n",
       "      <td>1000111</td>\n",
       "      <td>43</td>\n",
       "      <td>2</td>\n",
       "      <td>727,106.00446,062.00</td>\n",
       "    </tr>\n",
       "    <tr>\n",
       "      <th>11</th>\n",
       "      <td>1000112</td>\n",
       "      <td>11</td>\n",
       "      <td>7</td>\n",
       "      <td>192,879.00226,372.00324,081.00124,779.0082,680...</td>\n",
       "    </tr>\n",
       "    <tr>\n",
       "      <th>12</th>\n",
       "      <td>1000113</td>\n",
       "      <td>47</td>\n",
       "      <td>4</td>\n",
       "      <td>204,376.00536,384.00448,649.00249,526.00</td>\n",
       "    </tr>\n",
       "    <tr>\n",
       "      <th>13</th>\n",
       "      <td>1000114</td>\n",
       "      <td>21</td>\n",
       "      <td>4</td>\n",
       "      <td>943,441.00549,333.00686,068.00374,997.00</td>\n",
       "    </tr>\n",
       "    <tr>\n",
       "      <th>14</th>\n",
       "      <td>1000115</td>\n",
       "      <td>41</td>\n",
       "      <td>4</td>\n",
       "      <td>599,196.00110,629.00323,170.00395,612.00</td>\n",
       "    </tr>\n",
       "    <tr>\n",
       "      <th>15</th>\n",
       "      <td>1000116</td>\n",
       "      <td>11</td>\n",
       "      <td>2</td>\n",
       "      <td>778,832.00735,911.00</td>\n",
       "    </tr>\n",
       "    <tr>\n",
       "      <th>16</th>\n",
       "      <td>1000117</td>\n",
       "      <td>67</td>\n",
       "      <td>1</td>\n",
       "      <td>517,548.00</td>\n",
       "    </tr>\n",
       "    <tr>\n",
       "      <th>17</th>\n",
       "      <td>1000118</td>\n",
       "      <td>10</td>\n",
       "      <td>3</td>\n",
       "      <td>693,512.00968,503.0062,600.00</td>\n",
       "    </tr>\n",
       "    <tr>\n",
       "      <th>18</th>\n",
       "      <td>1000119</td>\n",
       "      <td>124</td>\n",
       "      <td>2</td>\n",
       "      <td>365,700.00580,085.00</td>\n",
       "    </tr>\n",
       "    <tr>\n",
       "      <th>19</th>\n",
       "      <td>1000120</td>\n",
       "      <td>1</td>\n",
       "      <td>2</td>\n",
       "      <td>991,767.00486,985.00</td>\n",
       "    </tr>\n",
       "    <tr>\n",
       "      <th>20</th>\n",
       "      <td>1000121</td>\n",
       "      <td>94</td>\n",
       "      <td>1</td>\n",
       "      <td>343,768.00</td>\n",
       "    </tr>\n",
       "    <tr>\n",
       "      <th>21</th>\n",
       "      <td>1000122</td>\n",
       "      <td>107</td>\n",
       "      <td>3</td>\n",
       "      <td>597,827.00110,494.00809,922.00</td>\n",
       "    </tr>\n",
       "    <tr>\n",
       "      <th>22</th>\n",
       "      <td>1000124</td>\n",
       "      <td>44</td>\n",
       "      <td>3</td>\n",
       "      <td>551,369.00868,021.00838,591.00</td>\n",
       "    </tr>\n",
       "    <tr>\n",
       "      <th>23</th>\n",
       "      <td>1000125</td>\n",
       "      <td>0</td>\n",
       "      <td>4</td>\n",
       "      <td>595,239.00308,344.0073,600.00170,222.00</td>\n",
       "    </tr>\n",
       "    <tr>\n",
       "      <th>24</th>\n",
       "      <td>1000126</td>\n",
       "      <td>57</td>\n",
       "      <td>2</td>\n",
       "      <td>178,750.00737,043.00</td>\n",
       "    </tr>\n",
       "  </tbody>\n",
       "</table>\n",
       "</div>"
      ],
      "text/plain": [
       "     CardID  Recency  Frequency  \\\n",
       "0   1000101      143          1   \n",
       "1   1000102      133          3   \n",
       "2   1000103      153          1   \n",
       "3   1000104      154          2   \n",
       "4   1000105       13          5   \n",
       "5   1000106       87          2   \n",
       "6   1000107       71          3   \n",
       "7   1000108        5          3   \n",
       "8   1000109       37          2   \n",
       "9   1000110       15          5   \n",
       "10  1000111       43          2   \n",
       "11  1000112       11          7   \n",
       "12  1000113       47          4   \n",
       "13  1000114       21          4   \n",
       "14  1000115       41          4   \n",
       "15  1000116       11          2   \n",
       "16  1000117       67          1   \n",
       "17  1000118       10          3   \n",
       "18  1000119      124          2   \n",
       "19  1000120        1          2   \n",
       "20  1000121       94          1   \n",
       "21  1000122      107          3   \n",
       "22  1000124       44          3   \n",
       "23  1000125        0          4   \n",
       "24  1000126       57          2   \n",
       "\n",
       "                                               Amount  \n",
       "0                                          595,502.00  \n",
       "1                      454,853.00607,435.00559,805.00  \n",
       "2                                          185,145.00  \n",
       "3                                860,664.00861,520.00  \n",
       "4   708,611.00825,100.00681,646.00620,658.00446,36...  \n",
       "5                                699,502.00709,907.00  \n",
       "6                      247,765.00578,797.00366,094.00  \n",
       "7                      168,311.00247,583.00114,631.00  \n",
       "8                                991,635.00477,881.00  \n",
       "9    831,039.0092,526.00194,691.00509,712.0092,089.00  \n",
       "10                               727,106.00446,062.00  \n",
       "11  192,879.00226,372.00324,081.00124,779.0082,680...  \n",
       "12           204,376.00536,384.00448,649.00249,526.00  \n",
       "13           943,441.00549,333.00686,068.00374,997.00  \n",
       "14           599,196.00110,629.00323,170.00395,612.00  \n",
       "15                               778,832.00735,911.00  \n",
       "16                                         517,548.00  \n",
       "17                      693,512.00968,503.0062,600.00  \n",
       "18                               365,700.00580,085.00  \n",
       "19                               991,767.00486,985.00  \n",
       "20                                         343,768.00  \n",
       "21                     597,827.00110,494.00809,922.00  \n",
       "22                     551,369.00868,021.00838,591.00  \n",
       "23            595,239.00308,344.0073,600.00170,222.00  \n",
       "24                               178,750.00737,043.00  "
      ]
     },
     "execution_count": 21,
     "metadata": {},
     "output_type": "execute_result"
    }
   ],
   "source": [
    "RFM = RFM.merge(RFM_F,how='inner',on=['CardID'])\n",
    "RFM =RFM.merge(RFM_M,how='inner',on=['CardID'])\n",
    "RFM.head(25)"
   ]
  },
  {
   "cell_type": "code",
   "execution_count": 22,
   "id": "5457d686",
   "metadata": {
    "execution": {
     "iopub.execute_input": "2021-07-19T19:02:03.914018Z",
     "iopub.status.busy": "2021-07-19T19:02:03.913244Z",
     "iopub.status.idle": "2021-07-19T19:02:03.916291Z",
     "shell.execute_reply": "2021-07-19T19:02:03.916752Z",
     "shell.execute_reply.started": "2021-07-19T18:52:20.807622Z"
    },
    "papermill": {
     "duration": 0.047078,
     "end_time": "2021-07-19T19:02:03.916937",
     "exception": false,
     "start_time": "2021-07-19T19:02:03.869859",
     "status": "completed"
    },
    "tags": []
   },
   "outputs": [
    {
     "data": {
      "text/html": [
       "<div>\n",
       "<style scoped>\n",
       "    .dataframe tbody tr th:only-of-type {\n",
       "        vertical-align: middle;\n",
       "    }\n",
       "\n",
       "    .dataframe tbody tr th {\n",
       "        vertical-align: top;\n",
       "    }\n",
       "\n",
       "    .dataframe thead th {\n",
       "        text-align: right;\n",
       "    }\n",
       "</style>\n",
       "<table border=\"1\" class=\"dataframe\">\n",
       "  <thead>\n",
       "    <tr style=\"text-align: right;\">\n",
       "      <th></th>\n",
       "      <th>CardID</th>\n",
       "      <th>Recency</th>\n",
       "      <th>Frequency</th>\n",
       "      <th>Amount</th>\n",
       "    </tr>\n",
       "  </thead>\n",
       "  <tbody>\n",
       "    <tr>\n",
       "      <th>46</th>\n",
       "      <td>1000148</td>\n",
       "      <td>18</td>\n",
       "      <td>2</td>\n",
       "      <td>593,756.00328,983.00</td>\n",
       "    </tr>\n",
       "    <tr>\n",
       "      <th>47</th>\n",
       "      <td>1000149</td>\n",
       "      <td>25</td>\n",
       "      <td>2</td>\n",
       "      <td>570,557.00507,890.00</td>\n",
       "    </tr>\n",
       "    <tr>\n",
       "      <th>48</th>\n",
       "      <td>1000150</td>\n",
       "      <td>48</td>\n",
       "      <td>3</td>\n",
       "      <td>213,736.00118,120.00803,771.00</td>\n",
       "    </tr>\n",
       "    <tr>\n",
       "      <th>49</th>\n",
       "      <td>1000151</td>\n",
       "      <td>45</td>\n",
       "      <td>2</td>\n",
       "      <td>910,616.00561,817.00</td>\n",
       "    </tr>\n",
       "    <tr>\n",
       "      <th>50</th>\n",
       "      <td>1000152</td>\n",
       "      <td>6</td>\n",
       "      <td>7</td>\n",
       "      <td>797,173.00564,080.00123,292.00417,309.00953,43...</td>\n",
       "    </tr>\n",
       "    <tr>\n",
       "      <th>51</th>\n",
       "      <td>1000153</td>\n",
       "      <td>155</td>\n",
       "      <td>1</td>\n",
       "      <td>95,578.00</td>\n",
       "    </tr>\n",
       "    <tr>\n",
       "      <th>52</th>\n",
       "      <td>1000154</td>\n",
       "      <td>22</td>\n",
       "      <td>6</td>\n",
       "      <td>437,923.00421,292.00671,221.0077,974.00413,724...</td>\n",
       "    </tr>\n",
       "    <tr>\n",
       "      <th>53</th>\n",
       "      <td>1000155</td>\n",
       "      <td>68</td>\n",
       "      <td>3</td>\n",
       "      <td>279,756.00467,629.00736,907.00</td>\n",
       "    </tr>\n",
       "    <tr>\n",
       "      <th>54</th>\n",
       "      <td>1000156</td>\n",
       "      <td>77</td>\n",
       "      <td>2</td>\n",
       "      <td>972,450.00997,056.00</td>\n",
       "    </tr>\n",
       "    <tr>\n",
       "      <th>55</th>\n",
       "      <td>1000157</td>\n",
       "      <td>40</td>\n",
       "      <td>6</td>\n",
       "      <td>764,789.00875,214.00419,326.00351,528.00695,94...</td>\n",
       "    </tr>\n",
       "    <tr>\n",
       "      <th>56</th>\n",
       "      <td>1000158</td>\n",
       "      <td>77</td>\n",
       "      <td>6</td>\n",
       "      <td>912,660.00770,228.0073,145.00272,789.00610,551...</td>\n",
       "    </tr>\n",
       "    <tr>\n",
       "      <th>57</th>\n",
       "      <td>1000159</td>\n",
       "      <td>57</td>\n",
       "      <td>3</td>\n",
       "      <td>524,135.00295,359.00850,546.00</td>\n",
       "    </tr>\n",
       "    <tr>\n",
       "      <th>58</th>\n",
       "      <td>1000160</td>\n",
       "      <td>9</td>\n",
       "      <td>2</td>\n",
       "      <td>149,155.00905,951.00</td>\n",
       "    </tr>\n",
       "    <tr>\n",
       "      <th>59</th>\n",
       "      <td>1000161</td>\n",
       "      <td>7</td>\n",
       "      <td>5</td>\n",
       "      <td>368,287.00843,612.00101,831.00985,163.00149,90...</td>\n",
       "    </tr>\n",
       "    <tr>\n",
       "      <th>60</th>\n",
       "      <td>1000162</td>\n",
       "      <td>50</td>\n",
       "      <td>1</td>\n",
       "      <td>760,375.00</td>\n",
       "    </tr>\n",
       "    <tr>\n",
       "      <th>61</th>\n",
       "      <td>1000163</td>\n",
       "      <td>50</td>\n",
       "      <td>3</td>\n",
       "      <td>895,657.00714,811.00403,473.00</td>\n",
       "    </tr>\n",
       "    <tr>\n",
       "      <th>62</th>\n",
       "      <td>1000164</td>\n",
       "      <td>136</td>\n",
       "      <td>2</td>\n",
       "      <td>827,965.00299,101.00</td>\n",
       "    </tr>\n",
       "    <tr>\n",
       "      <th>63</th>\n",
       "      <td>1000166</td>\n",
       "      <td>15</td>\n",
       "      <td>6</td>\n",
       "      <td>157,446.00230,934.00796,145.00414,319.00849,99...</td>\n",
       "    </tr>\n",
       "    <tr>\n",
       "      <th>64</th>\n",
       "      <td>1000167</td>\n",
       "      <td>46</td>\n",
       "      <td>3</td>\n",
       "      <td>340,947.00875,324.00167,093.00</td>\n",
       "    </tr>\n",
       "    <tr>\n",
       "      <th>65</th>\n",
       "      <td>1000168</td>\n",
       "      <td>26</td>\n",
       "      <td>2</td>\n",
       "      <td>571,879.00533,901.00</td>\n",
       "    </tr>\n",
       "    <tr>\n",
       "      <th>66</th>\n",
       "      <td>1000169</td>\n",
       "      <td>101</td>\n",
       "      <td>1</td>\n",
       "      <td>892,006.00</td>\n",
       "    </tr>\n",
       "    <tr>\n",
       "      <th>67</th>\n",
       "      <td>1000170</td>\n",
       "      <td>26</td>\n",
       "      <td>2</td>\n",
       "      <td>320,453.0094,048.00</td>\n",
       "    </tr>\n",
       "    <tr>\n",
       "      <th>68</th>\n",
       "      <td>1000171</td>\n",
       "      <td>52</td>\n",
       "      <td>1</td>\n",
       "      <td>384,655.00</td>\n",
       "    </tr>\n",
       "    <tr>\n",
       "      <th>69</th>\n",
       "      <td>1000172</td>\n",
       "      <td>31</td>\n",
       "      <td>3</td>\n",
       "      <td>554,437.00904,739.00223,423.00</td>\n",
       "    </tr>\n",
       "    <tr>\n",
       "      <th>70</th>\n",
       "      <td>1000174</td>\n",
       "      <td>49</td>\n",
       "      <td>1</td>\n",
       "      <td>98,923.00</td>\n",
       "    </tr>\n",
       "  </tbody>\n",
       "</table>\n",
       "</div>"
      ],
      "text/plain": [
       "     CardID  Recency  Frequency  \\\n",
       "46  1000148       18          2   \n",
       "47  1000149       25          2   \n",
       "48  1000150       48          3   \n",
       "49  1000151       45          2   \n",
       "50  1000152        6          7   \n",
       "51  1000153      155          1   \n",
       "52  1000154       22          6   \n",
       "53  1000155       68          3   \n",
       "54  1000156       77          2   \n",
       "55  1000157       40          6   \n",
       "56  1000158       77          6   \n",
       "57  1000159       57          3   \n",
       "58  1000160        9          2   \n",
       "59  1000161        7          5   \n",
       "60  1000162       50          1   \n",
       "61  1000163       50          3   \n",
       "62  1000164      136          2   \n",
       "63  1000166       15          6   \n",
       "64  1000167       46          3   \n",
       "65  1000168       26          2   \n",
       "66  1000169      101          1   \n",
       "67  1000170       26          2   \n",
       "68  1000171       52          1   \n",
       "69  1000172       31          3   \n",
       "70  1000174       49          1   \n",
       "\n",
       "                                               Amount  \n",
       "46                               593,756.00328,983.00  \n",
       "47                               570,557.00507,890.00  \n",
       "48                     213,736.00118,120.00803,771.00  \n",
       "49                               910,616.00561,817.00  \n",
       "50  797,173.00564,080.00123,292.00417,309.00953,43...  \n",
       "51                                          95,578.00  \n",
       "52  437,923.00421,292.00671,221.0077,974.00413,724...  \n",
       "53                     279,756.00467,629.00736,907.00  \n",
       "54                               972,450.00997,056.00  \n",
       "55  764,789.00875,214.00419,326.00351,528.00695,94...  \n",
       "56  912,660.00770,228.0073,145.00272,789.00610,551...  \n",
       "57                     524,135.00295,359.00850,546.00  \n",
       "58                               149,155.00905,951.00  \n",
       "59  368,287.00843,612.00101,831.00985,163.00149,90...  \n",
       "60                                         760,375.00  \n",
       "61                     895,657.00714,811.00403,473.00  \n",
       "62                               827,965.00299,101.00  \n",
       "63  157,446.00230,934.00796,145.00414,319.00849,99...  \n",
       "64                     340,947.00875,324.00167,093.00  \n",
       "65                               571,879.00533,901.00  \n",
       "66                                         892,006.00  \n",
       "67                                320,453.0094,048.00  \n",
       "68                                         384,655.00  \n",
       "69                     554,437.00904,739.00223,423.00  \n",
       "70                                          98,923.00  "
      ]
     },
     "execution_count": 22,
     "metadata": {},
     "output_type": "execute_result"
    }
   ],
   "source": [
    "RFM.tail(25)"
   ]
  },
  {
   "cell_type": "markdown",
   "id": "f800e2a1",
   "metadata": {
    "papermill": {
     "duration": 0.028871,
     "end_time": "2021-07-19T19:02:03.975729",
     "exception": false,
     "start_time": "2021-07-19T19:02:03.946858",
     "status": "completed"
    },
    "tags": []
   },
   "source": []
  }
 ],
 "metadata": {
  "kernelspec": {
   "display_name": "Python 3",
   "language": "python",
   "name": "python3"
  },
  "language_info": {
   "codemirror_mode": {
    "name": "ipython",
    "version": 3
   },
   "file_extension": ".py",
   "mimetype": "text/x-python",
   "name": "python",
   "nbconvert_exporter": "python",
   "pygments_lexer": "ipython3",
   "version": "3.7.10"
  },
  "papermill": {
   "default_parameters": {},
   "duration": 12.657278,
   "end_time": "2021-07-19T19:02:04.716192",
   "environment_variables": {},
   "exception": null,
   "input_path": "__notebook__.ipynb",
   "output_path": "__notebook__.ipynb",
   "parameters": {},
   "start_time": "2021-07-19T19:01:52.058914",
   "version": "2.3.3"
  }
 },
 "nbformat": 4,
 "nbformat_minor": 5
}
